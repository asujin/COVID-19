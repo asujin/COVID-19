{
  "nbformat": 4,
  "nbformat_minor": 0,
  "metadata": {
    "colab": {
      "name": "becaked.ipynb",
      "provenance": [],
      "collapsed_sections": [],
      "authorship_tag": "ABX9TyNl/F8uoo1Ca7nHqXwAQ5Gz",
      "include_colab_link": true
    },
    "kernelspec": {
      "name": "python3",
      "display_name": "Python 3"
    },
    "language_info": {
      "name": "python"
    }
  },
  "cells": [
    {
      "cell_type": "markdown",
      "metadata": {
        "id": "view-in-github",
        "colab_type": "text"
      },
      "source": [
        "<a href=\"https://colab.research.google.com/github/asujin/COVID-19/blob/master/becaked.ipynb\" target=\"_parent\"><img src=\"https://colab.research.google.com/assets/colab-badge.svg\" alt=\"Open In Colab\"/></a>"
      ]
    },
    {
      "cell_type": "code",
      "execution_count": 24,
      "metadata": {
        "id": "2yhM4OVTmvMv"
      },
      "outputs": [],
      "source": [
        "from __future__ import division\n",
        "import numpy as np\n",
        "import tensorflow as tf\n",
        "import keras\n",
        "from keras.models import Sequential, Model, load_model\n",
        "from keras.layers import Input, LSTM, Dense, Activation, Concatenate, Add, Subtract, Multiply, Lambda, Reshape, Flatten, Dropout\n",
        "import keras.backend as K\n",
        "from keras.callbacks import LearningRateScheduler, ModelCheckpoint, EarlyStopping\n",
        "from tensorflow.keras.optimizers import RMSprop, Adam, SGD\n",
        "\n"
      ]
    },
    {
      "cell_type": "code",
      "source": [
        "import os\n",
        "from data_utils import *\n",
        "from utils import *\n",
        "from generator import *"
      ],
      "metadata": {
        "id": "vgYQY1DQnafk"
      },
      "execution_count": 25,
      "outputs": []
    },
    {
      "cell_type": "code",
      "source": [
        "DAYS = 10\n",
        "def SIRD_layer(tensors):\n",
        "    input_raw, x = tensors\n",
        "\n",
        "    S = tf.subtract(\n",
        "                input_raw[:,:,0],\n",
        "                tf.multiply(\n",
        "                    tf.multiply(\n",
        "                        x[:,0],\n",
        "                        input_raw[:,:,0]\n",
        "                        ),\n",
        "                    input_raw[:,:,1]\n",
        "                    )\n",
        "                )\n",
        "\n",
        "    I = tf.subtract(\n",
        "            tf.add(\n",
        "                input_raw[:,:,1],\n",
        "                tf.multiply(tf.multiply(x[:,0], input_raw[:,:,0]), input_raw[:,:,1])\n",
        "                ),\n",
        "            tf.multiply(\n",
        "                tf.add(x[:,1], x[:,2]),\n",
        "                input_raw[:,:,1]\n",
        "                )\n",
        "            )\n",
        "\n",
        "    R = tf.add(\n",
        "            input_raw[:,:,2],\n",
        "            tf.multiply(\n",
        "                x[:,1],\n",
        "                input_raw[:,:,1]\n",
        "                )\n",
        "            )\n",
        "\n",
        "    D = tf.add(\n",
        "            input_raw[:,:,3],\n",
        "            tf.multiply(\n",
        "                x[:,2],\n",
        "                input_raw[:,:,1]\n",
        "                )\n",
        "            )\n",
        "\n",
        "    out = tf.stack([S, I, R, D], axis=-1)\n",
        "    return out\n",
        "\n",
        "def case_diff(tensor):\n",
        "    return tf.subtract(tensor[:,1:], tensor[:,:-1])\n",
        "\n",
        "class BeCakedModel():\n",
        "    def __init__(self, population=7.5e9, day_lag=DAYS):\n",
        "        self.initN = population\n",
        "        self.day_lag = day_lag\n",
        "        self.model = self.build_model(day_lag)\n",
        "\n",
        "        if os.path.exists(\"models/world_%d.h5\"%day_lag):\n",
        "            self.load_weights(\"models/world_%d.h5\"%day_lag)\n",
        "\n",
        "        self.model.summary()\n",
        "        self.estimator_model = Model(inputs=self.model.input,\n",
        "                                        outputs=self.model.layers[-2].output)\n",
        "\n",
        "    def update_population(self, population):\n",
        "        self.initN = population\n",
        "\n",
        "    def reset_population(self):\n",
        "        self.initN = 7.5e9\n",
        "\n",
        "    def load_weights(self, path):\n",
        "        print(\"Loading saved model at %s\"%path)\n",
        "        self.model.load_weights(path)\n",
        "        self.estimator_model = Model(inputs=self.model.input,\n",
        "                                        outputs=self.model.layers[-2].output)\n",
        "\n",
        "    def build_model(self, day_lag):\n",
        "        input_raw = Input(shape=(day_lag, 4)) # S, I, R, D\n",
        "\n",
        "        x = Lambda(case_diff)(input_raw)\n",
        "        x = LSTM(128, return_sequences=True)(x)\n",
        "        x = LSTM(128, return_sequences=True)(x)\n",
        "        x = Flatten()(x)\n",
        "        x = Dropout(0.2)(x)\n",
        "        x = Dense(256, activation='relu')(x)\n",
        "        x = Dropout(0.2)(x)\n",
        "        x = Dense(128, activation='relu')(x)\n",
        "        x = Dense(3, activation='linear')(x) # beta, gamma, muy\n",
        "        x = Reshape((3,1))(x)\n",
        "        y_pred = Lambda(SIRD_layer)([input_raw, x])\n",
        "        model = Model(inputs=input_raw, outputs=y_pred)\n",
        "\n",
        "        return model\n",
        "\n",
        "    def train(self, confirmed, recovered, deaths, epochs=10000, name=\"world\"):\n",
        "        S = (self.initN - confirmed) * 100 / self.initN\n",
        "        I = (confirmed - recovered - deaths) * 100 / self.initN\n",
        "        R = (recovered) * 100 / self.initN\n",
        "        D = (deaths) * 100 / self.initN\n",
        "        data = np.dstack([S, I, R, D])[0]\n",
        "\n",
        "        data_generator = DataGenerator(data, data_len=self.day_lag, batch_size=1)\n",
        "\n",
        "        def scheduler(epoch, lr):\n",
        "            if epoch > 0 and epoch % 100 == 0:\n",
        "                return lr*0.9\n",
        "            else:\n",
        "                return lr\n",
        "\n",
        "        lr_schedule = LearningRateScheduler(scheduler)\n",
        "        optimizer = Adam(learning_rate=1e-6)\n",
        "        checkpoint = ModelCheckpoint(os.path.join('./ckpt', 'ckpt_%s_%d_{epoch:06d}.h5'%(name, self.day_lag)), period=500)\n",
        "        early_stop = EarlyStopping(monitor=\"loss\", patience=100)\n",
        "\n",
        "        self.model.compile(optimizer=optimizer, loss=\"mean_squared_error\", metrics=['mean_absolute_error'])\n",
        "        self.model.fit_generator(generator=data_generator, epochs=epochs, callbacks=[lr_schedule, checkpoint, early_stop])\n",
        "\n",
        "        self.model.save_weights(\"%s_%d.h5\"%(name, self.day_lag))\n",
        "\n",
        "    def evaluate(self, confirmed, recovered, deaths):\n",
        "        S = (self.initN - confirmed) * 100 / self.initN\n",
        "        I = (confirmed - recovered - deaths) * 100 / self.initN\n",
        "        R = (recovered) * 100 / self.initN\n",
        "        D = (deaths) * 100 / self.initN\n",
        "        data = np.dstack([S, I, R, D])[0]\n",
        "\n",
        "        data_generator = DataGenerator(data, data_len=self.day_lag, batch_size=1)\n",
        "        return self.model.evaluate_generator(data_generator, verbose=1)\n",
        "\n",
        "    def predict(self, x, return_param=False):\n",
        "        input_x = np.empty((1, self.day_lag, 4))\n",
        "        x = np.array(x)\n",
        "        scale_factor = 100\n",
        "\n",
        "        S = ((self.initN - x[0]) / self.initN) * scale_factor\n",
        "        I = ((x[0] - x[1] - x[2]) / self.initN) * scale_factor\n",
        "        R = (x[1] / self.initN) * scale_factor\n",
        "        D = (x[2] / self.initN) * scale_factor\n",
        "\n",
        "        input_x = np.absolute(np.dstack([S, I, R, D]))\n",
        "\n",
        "        result = self.model.predict(input_x)\n",
        "        result = np.array(result, dtype=np.float64)\n",
        "\n",
        "        if return_param:\n",
        "            param_byu = self.estimator_model.predict(input_x)\n",
        "            return (result/scale_factor)*self.initN, param_byu\n",
        "\n",
        "        return (result/scale_factor)*self.initN\n",
        "\n",
        "    def predict_estimator(self, x):\n",
        "        input_x = np.empty((1, self.day_lag, 4))\n",
        "        x = np.array(x)\n",
        "        scale_factor = 100\n",
        "\n",
        "        S = ((self.initN - x[0]) / self.initN) * scale_factor\n",
        "        I = ((x[0] - x[1] - x[2]) / self.initN) * scale_factor\n",
        "        R = (x[1] / self.initN) * scale_factor\n",
        "        D = (x[2] / self.initN) * scale_factor\n",
        "\n",
        "        input_x = np.dstack([S, I, R, D])\n",
        "\n",
        "        result = self.estimator_model.predict(input_x)\n",
        "        return result\n"
      ],
      "metadata": {
        "id": "-LO5OCZfmzpL"
      },
      "execution_count": 26,
      "outputs": []
    },
    {
      "cell_type": "code",
      "source": [
        ""
      ],
      "metadata": {
        "id": "BKdVBw9Nmzvl"
      },
      "execution_count": null,
      "outputs": []
    },
    {
      "cell_type": "code",
      "source": [
        ""
      ],
      "metadata": {
        "id": "nggmk-6Vmzx6"
      },
      "execution_count": null,
      "outputs": []
    },
    {
      "cell_type": "code",
      "source": [
        ""
      ],
      "metadata": {
        "id": "8ibTh4Admz0A"
      },
      "execution_count": null,
      "outputs": []
    }
  ]
}